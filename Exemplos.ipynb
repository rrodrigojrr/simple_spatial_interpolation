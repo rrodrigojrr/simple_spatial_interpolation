{
 "cells": [
  {
   "cell_type": "markdown",
   "metadata": {},
   "source": [
    "# Exemplo de estimativa de valores em um ponto no espaço\n",
    "\n",
    "No exemplo abaixo buscamos estimar o valor de *z*  no ponto (3,3) dentro de um espaço cartesiano variando de 0 a 20 em X e Y. Os vetores x, y e z representam valores observados que usaremos para estimar valores no ponto xi e zi."
   ]
  },
  {
   "cell_type": "code",
   "execution_count": 3,
   "metadata": {},
   "outputs": [],
   "source": [
    "from src.IDW import IDW\n",
    "from src.RBF import RBF\n",
    "import numpy as np"
   ]
  },
  {
   "cell_type": "markdown",
   "metadata": {},
   "source": [
    "#### Interpolação usando IDW"
   ]
  },
  {
   "cell_type": "code",
   "execution_count": 15,
   "metadata": {},
   "outputs": [
    {
     "name": "stdout",
     "output_type": "stream",
     "text": [
      "Valor estimado com IDW: 28.0\n"
     ]
    }
   ],
   "source": [
    "x = np.array([1,10,20])\n",
    "y = np.array([1,10,20])\n",
    "z = np.array([28,27.5,28.9])\n",
    "\n",
    "xi = np.array([3])\n",
    "yi = np.array([3])\n",
    "\n",
    "estimado = IDW(x,y,z,xi,yi)\n",
    "\n",
    "print(f'Valor estimado com IDW: {round(estimado[0],1)}')"
   ]
  },
  {
   "cell_type": "markdown",
   "metadata": {},
   "source": [
    "#### Interpolação usando RBF"
   ]
  },
  {
   "cell_type": "code",
   "execution_count": 16,
   "metadata": {},
   "outputs": [
    {
     "name": "stdout",
     "output_type": "stream",
     "text": [
      "Valor estimado com RBF: 26.3\n"
     ]
    }
   ],
   "source": [
    "x = np.array([1,10,20])\n",
    "y = np.array([1,10,20])\n",
    "z = np.array([26,27.5,28.9])\n",
    "\n",
    "xi = np.array([3])\n",
    "yi = np.array([3])\n",
    "\n",
    "estimado = RBF(x,y,z,xi,yi)\n",
    "\n",
    "print(f'Valor estimado com RBF: {round(estimado[0],1)}')"
   ]
  },
  {
   "cell_type": "markdown",
   "metadata": {},
   "source": [
    "# Exemplo de estimativa de um campo espacial (Grade)"
   ]
  },
  {
   "cell_type": "code",
   "execution_count": 3,
   "metadata": {},
   "outputs": [],
   "source": [
    "from src.IDW import IDW\n",
    "from src.RBF import RBF\n",
    "import numpy as np\n",
    "import matplotlib.pyplot as plt\n",
    "from src.utils import coordsTransform, reshape_grid"
   ]
  },
  {
   "cell_type": "code",
   "execution_count": 38,
   "metadata": {},
   "outputs": [
    {
     "name": "stderr",
     "output_type": "stream",
     "text": [
      "/tmp/ipykernel_13843/2002820106.py:26: UserWarning: The following kwargs were not used by contour: 'level'\n",
      "  c = ax.contourf(lon,lat,estimado,level=[25,26,27,28,29,30])\n"
     ]
    },
    {
     "data": {
      "text/plain": [
       "<matplotlib.legend.Legend at 0x7fbd95e55190>"
      ]
     },
     "execution_count": 38,
     "metadata": {},
     "output_type": "execute_result"
    },
    {
     "data": {
      "image/png": "[encoded data removed]",
      "text/plain": [
       "<Figure size 864x720 with 2 Axes>"
      ]
     },
     "metadata": {
      "needs_background": "light"
     },
     "output_type": "display_data"
    }
   ],
   "source": [
    "# Valores observados\n",
    "x = np.random.randint(0,20,12)\n",
    "y = np.random.randint(0,20,12)\n",
    "z = np.random.randint(25,30,12)\n",
    "\n",
    "# Criando duas sequências de X e Y com tamanho N. Essas sequências foram uma grade de tamanho NxN.  \n",
    "xi = np.arange(0,20,0.25)\n",
    "yi = np.arange(0,20,0.25)\n",
    "\n",
    "####################################\n",
    "# IMPORTANTE #######################\n",
    "####################################\n",
    "# Ao criar uma sequência de X e Y, é necessário fazer uma transformação\n",
    "# nas sequências para gerar todas as combinações de coordenadas possíveis\n",
    "# para alimentar o modelo de inteporlação\n",
    "lon, lat = coordsTransform(xi,yi)\n",
    "\n",
    "# Interpolação de fato. Usando o RBF\n",
    "z_estimado = RBF(x,y,z,lon,lat)\n",
    "\n",
    "# Gerando uma grade 2D dos valoes estimados para ser plotado um campo no matplotlib\n",
    "lon, lat, estimado = reshape_grid(xi,yi,z_estimado)\n",
    "\n",
    "fig = plt.figure(figsize=(12,10))\n",
    "ax = fig.add_subplot()\n",
    "c = ax.contourf(lon,lat,estimado,level=[25,26,27,28,29,30])\n",
    "plt.colorbar(c)\n",
    "ax.scatter(x,y,color='red',label='Pontos observados')\n",
    "plt.legend()"
   ]
  }
 ],
 "metadata": {
  "interpreter": {
   "hash": "916dbcbb3f70747c44a77c7bcd40155683ae19c65e1c03b4aa3499c5328201f1"
  },
  "kernelspec": {
   "display_name": "Python 3.8.10 64-bit",
   "language": "python",
   "name": "python3"
  },
  "language_info": {
   "codemirror_mode": {
    "name": "ipython",
    "version": 3
   },
   "file_extension": ".py",
   "mimetype": "text/x-python",
   "name": "python",
   "nbconvert_exporter": "python",
   "pygments_lexer": "ipython3",
   "version": "3.8.10"
  },
  "orig_nbformat": 4
 },
 "nbformat": 4,
 "nbformat_minor": 2
}
